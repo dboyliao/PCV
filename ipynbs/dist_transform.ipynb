{
 "cells": [
  {
   "cell_type": "code",
   "execution_count": 1,
   "metadata": {
    "collapsed": true
   },
   "outputs": [],
   "source": [
    "import numpy as np"
   ]
  },
  {
   "cell_type": "code",
   "execution_count": 2,
   "metadata": {
    "collapsed": true
   },
   "outputs": [],
   "source": [
    "sample_arr = np.array([[0, 0, 0, 0, 0, 0, 1, 0],\n",
    "                       [0, 0, 0, 0, 0, 1, 0, 0],\n",
    "                       [0, 0, 0, 0, 0, 1, 0, 0],\n",
    "                       [0, 0, 0, 0, 0, 1, 0, 0],\n",
    "                       [0, 1, 1, 0, 0, 0, 1, 0],\n",
    "                       [0, 1, 0, 0, 0, 0, 0, 1],\n",
    "                       [0, 1, 0, 0, 0, 0, 0, 0],\n",
    "                       [0, 1, 0, 0, 0, 0, 0, 0]])"
   ]
  },
  {
   "cell_type": "code",
   "execution_count": 3,
   "metadata": {
    "collapsed": true
   },
   "outputs": [],
   "source": [
    "ans = np.array([[5, 4, 4, 3, 2, 1, 0, 1],\n",
    "                [4, 3, 3, 2, 1, 0, 1, 2],\n",
    "                [3, 2, 2, 2, 1, 0, 1, 2],\n",
    "                [2, 1, 1, 2, 1, 0, 1, 2],\n",
    "                [1, 0, 0, 1, 2, 1, 0, 1],\n",
    "                [1, 0, 1, 2, 3, 2, 1, 0],\n",
    "                [1, 0, 1, 2, 3, 3, 2, 1],\n",
    "                [1, 0, 1, 2, 3, 4, 3, 2]])"
   ]
  },
  {
   "cell_type": "code",
   "execution_count": 4,
   "metadata": {
    "collapsed": false
   },
   "outputs": [
    {
     "data": {
      "text/plain": [
       "array([[0, 0, 0, 0, 0, 0, 1, 0],\n",
       "       [0, 0, 0, 0, 0, 1, 0, 0],\n",
       "       [0, 0, 0, 0, 0, 1, 0, 0],\n",
       "       [0, 0, 0, 0, 0, 1, 0, 0],\n",
       "       [0, 1, 1, 0, 0, 0, 1, 0],\n",
       "       [0, 1, 0, 0, 0, 0, 0, 1],\n",
       "       [0, 1, 0, 0, 0, 0, 0, 0],\n",
       "       [0, 1, 0, 0, 0, 0, 0, 0]])"
      ]
     },
     "execution_count": 4,
     "metadata": {},
     "output_type": "execute_result"
    }
   ],
   "source": [
    "sample_arr"
   ]
  },
  {
   "cell_type": "code",
   "execution_count": 5,
   "metadata": {
    "collapsed": false
   },
   "outputs": [],
   "source": [
    "F = np.zeros((8, 8)) + 7\n",
    "for i in range(8):\n",
    "    for j in range(8):\n",
    "        if sample_arr[i, j] == 1:\n",
    "            F[i, j] = 0"
   ]
  },
  {
   "cell_type": "code",
   "execution_count": 6,
   "metadata": {
    "collapsed": false
   },
   "outputs": [
    {
     "data": {
      "text/plain": [
       "array([[ 7.,  7.,  7.,  7.,  7.,  7.,  0.,  7.],\n",
       "       [ 7.,  7.,  7.,  7.,  7.,  0.,  7.,  7.],\n",
       "       [ 7.,  7.,  7.,  7.,  7.,  0.,  7.,  7.],\n",
       "       [ 7.,  7.,  7.,  7.,  7.,  0.,  7.,  7.],\n",
       "       [ 7.,  0.,  0.,  7.,  7.,  7.,  0.,  7.],\n",
       "       [ 7.,  0.,  7.,  7.,  7.,  7.,  7.,  0.],\n",
       "       [ 7.,  0.,  7.,  7.,  7.,  7.,  7.,  7.],\n",
       "       [ 7.,  0.,  7.,  7.,  7.,  7.,  7.,  7.]])"
      ]
     },
     "execution_count": 6,
     "metadata": {},
     "output_type": "execute_result"
    }
   ],
   "source": [
    "F"
   ]
  },
  {
   "cell_type": "code",
   "execution_count": 7,
   "metadata": {
    "collapsed": true
   },
   "outputs": [],
   "source": [
    "def top_down_iter(arr):\n",
    "    F = arr.copy()\n",
    "    dim_i, dim_j = F.shape\n",
    "    for i in range(dim_i):\n",
    "        for j in range(dim_j):\n",
    "            if i == 0 and j == 0:\n",
    "                pass\n",
    "            elif i == 0:\n",
    "                F[i, j] = min(F[i, j], 1 + F[i, j - 1], 2 + F[i + 1, j - 1])\n",
    "            elif j == 0:\n",
    "                F[i, j] = min(F[i, j], F[i - 1, j] + 1)\n",
    "            elif i == dim_i - 1:\n",
    "                F[i, j] = min(F[i, j], 1 + F[i, j - 1], 1 + F[i - 1, j], 2 + F[i-1, j-1])\n",
    "            else:\n",
    "                F[i, j] = min(F[i, j], 1 + F[i, j - 1], 1 + F[i - 1, j], 2 + F[i - 1, j - 1], 2 + F[i + 1, j - 1])\n",
    "    return F"
   ]
  },
  {
   "cell_type": "code",
   "execution_count": 10,
   "metadata": {
    "collapsed": false
   },
   "outputs": [
    {
     "data": {
      "text/plain": [
       "array([[ 7.,  7.,  7.,  7.,  7.,  7.,  0.,  1.],\n",
       "       [ 7.,  7.,  7.,  7.,  7.,  0.,  1.,  2.],\n",
       "       [ 7.,  7.,  7.,  7.,  7.,  0.,  1.,  2.],\n",
       "       [ 7.,  7.,  2.,  2.,  3.,  0.,  1.,  2.],\n",
       "       [ 7.,  0.,  0.,  1.,  2.,  1.,  0.,  1.],\n",
       "       [ 7.,  0.,  1.,  2.,  3.,  2.,  1.,  0.],\n",
       "       [ 7.,  0.,  1.,  2.,  3.,  3.,  2.,  1.],\n",
       "       [ 7.,  0.,  1.,  2.,  3.,  4.,  3.,  2.]])"
      ]
     },
     "execution_count": 10,
     "metadata": {},
     "output_type": "execute_result"
    }
   ],
   "source": [
    "top_down_iter(F)"
   ]
  },
  {
   "cell_type": "code",
   "execution_count": 9,
   "metadata": {
    "collapsed": true
   },
   "outputs": [],
   "source": [
    "def buttom_up_iter(arr):\n",
    "    F = arr.copy()\n",
    "    dim_i, dim_j = F.shape\n",
    "    for i in range(dim_i -1, -1, -1):\n",
    "        for j in range(dim_j - 1, -1, -1):\n",
    "            if j == dim_j - 1 and i == dim_i - 1:\n",
    "                pass\n",
    "            elif i == dim_i - 1:\n",
    "                F[i, j] = min(F[i, j], 1 + F[i, j + 1], 2 + F[i - 1, j + 1])\n",
    "            elif j == dim_j - 1:\n",
    "                F[i, j] = min(F[i, j], 1 + F[i + 1, j], 2 + F[i + 1, j - 1])\n",
    "            elif i == 0:\n",
    "                F[i, j] = min(F[i, j], 1 + F[i, j + 1], 1 + F[i+1, j], 2 + F[i + 1, j + 1])\n",
    "            else:\n",
    "                F[i, j] = min(F[i, j], 1 + F[i, j + 1], 1 + F[i + 1, j], 2 + F[i + 1, j + 1], 2 + F[i - 1, j + 1])\n",
    "    return F"
   ]
  },
  {
   "cell_type": "code",
   "execution_count": 11,
   "metadata": {
    "collapsed": false
   },
   "outputs": [
    {
     "data": {
      "text/plain": [
       "array([[ 5.,  4.,  4.,  3.,  2.,  1.,  0.,  5.],\n",
       "       [ 4.,  3.,  3.,  2.,  1.,  0.,  3.,  4.],\n",
       "       [ 3.,  2.,  2.,  2.,  1.,  0.,  2.,  3.],\n",
       "       [ 2.,  1.,  1.,  2.,  1.,  0.,  1.,  2.],\n",
       "       [ 1.,  0.,  0.,  3.,  2.,  1.,  0.,  1.],\n",
       "       [ 1.,  0.,  5.,  4.,  3.,  2.,  1.,  0.],\n",
       "       [ 1.,  0.,  6.,  5.,  4.,  3.,  2.,  7.],\n",
       "       [ 1.,  0.,  7.,  7.,  7.,  7.,  7.,  7.]])"
      ]
     },
     "execution_count": 11,
     "metadata": {},
     "output_type": "execute_result"
    }
   ],
   "source": [
    "buttom_up_iter(F)"
   ]
  },
  {
   "cell_type": "code",
   "execution_count": 12,
   "metadata": {
    "collapsed": true
   },
   "outputs": [],
   "source": [
    "def dist_transform(arr):\n",
    "    F = arr.copy()\n",
    "    while 7 in F:\n",
    "        F = top_down_iter(F)\n",
    "        F = buttom_up_iter(F)\n",
    "    return F"
   ]
  },
  {
   "cell_type": "code",
   "execution_count": 16,
   "metadata": {
    "collapsed": false
   },
   "outputs": [
    {
     "name": "stdout",
     "output_type": "stream",
     "text": [
      "CPU times: user 787 µs, sys: 230 µs, total: 1.02 ms\n",
      "Wall time: 826 µs\n"
     ]
    }
   ],
   "source": [
    "%time mapped = dist_transform(F)"
   ]
  },
  {
   "cell_type": "code",
   "execution_count": 17,
   "metadata": {
    "collapsed": false
   },
   "outputs": [
    {
     "data": {
      "text/plain": [
       "True"
      ]
     },
     "execution_count": 17,
     "metadata": {},
     "output_type": "execute_result"
    }
   ],
   "source": [
    "np.all(mapped == ans)"
   ]
  },
  {
   "cell_type": "code",
   "execution_count": null,
   "metadata": {
    "collapsed": true
   },
   "outputs": [],
   "source": []
  }
 ],
 "metadata": {
  "kernelspec": {
   "display_name": "Python 2",
   "language": "python",
   "name": "python2"
  },
  "language_info": {
   "codemirror_mode": {
    "name": "ipython",
    "version": 2
   },
   "file_extension": ".py",
   "mimetype": "text/x-python",
   "name": "python",
   "nbconvert_exporter": "python",
   "pygments_lexer": "ipython2",
   "version": "2.7.9"
  }
 },
 "nbformat": 4,
 "nbformat_minor": 0
}
